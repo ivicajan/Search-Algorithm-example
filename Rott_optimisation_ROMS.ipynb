{
 "cells": [
  {
   "cell_type": "markdown",
   "id": "710e62e7",
   "metadata": {},
   "source": [
    "## Atempt to write optimal search algorithm for Rottnest Swim using ROMS 3D currents"
   ]
  },
  {
   "cell_type": "code",
   "execution_count": 1,
   "id": "3cdcb1d7",
   "metadata": {},
   "outputs": [],
   "source": [
    "import heapq\n",
    "import numpy as np\n",
    "import scipy.interpolate\n",
    "import xarray as xr"
   ]
  },
  {
   "cell_type": "code",
   "execution_count": 2,
   "id": "9d5e9653",
   "metadata": {},
   "outputs": [],
   "source": [
    "import matplotlib.pyplot as plt"
   ]
  },
  {
   "cell_type": "code",
   "execution_count": 3,
   "id": "23f091c5",
   "metadata": {},
   "outputs": [],
   "source": [
    "def distance(lat1, lon1, lat2, lon2):\n",
    "    # http://www.movable-type.co.uk/scripts/latlong.html\n",
    "    R = 6.371e6\n",
    "    lat1 *= np.pi/180.\n",
    "    lon1 *= np.pi/180.\n",
    "    lat2 *= np.pi/180.\n",
    "    lon2 *= np.pi/180.\n",
    "    return R*np.arccos(\n",
    "        np.sin(lat1)*np.sin(lat2) + \n",
    "        np.cos(lat1)*np.cos(lat2)*np.cos(lon2-lon1))"
   ]
  },
  {
   "cell_type": "code",
   "execution_count": 4,
   "id": "232011ca",
   "metadata": {},
   "outputs": [],
   "source": [
    "def bearing(lat1, lon1, lat2, lon2):\n",
    "    # http://www.movable-type.co.uk/scripts/latlong.html\n",
    "    lat1 *= np.pi/180.\n",
    "    lon1 *= np.pi/180.\n",
    "    lat2 *= np.pi/180.\n",
    "    lon2 *= np.pi/180.\n",
    "    y = np.sin(lon2-lon1)*np.cos(lat2)\n",
    "    x = np.cos(lat1)*np.sin(lat2) - np.sin(lat1)*np.cos(lat2)*np.cos(lon2-lon1)\n",
    "    return np.arctan2(y, x)"
   ]
  },
  {
   "cell_type": "code",
   "execution_count": 5,
   "id": "709faa26",
   "metadata": {},
   "outputs": [],
   "source": [
    "def get_roms_point(lon, lat, lon_p, lat_p):\n",
    "    lon = lon[:]\n",
    "    lat = lat[:]\n",
    "    d=(lat-lat_p)**2+(lon-lon_p)**2\n",
    "    ny, nx = np.unravel_index(np.argmin(d),d.shape)\n",
    "    return ny, nx"
   ]
  },
  {
   "cell_type": "code",
   "execution_count": 6,
   "id": "81dbae39",
   "metadata": {},
   "outputs": [],
   "source": [
    "def roms_bbox(roms, location):\n",
    "    # location = [115.47, 115.767, -32.08, -31.93]\n",
    "    # roms is Xarray object with lon_rho, lat_rho\n",
    "    xi = np.empty(4)\n",
    "    yi = np.empty(4)\n",
    "    yi[0],xi[0] = get_roms_point(roms.lon_rho.values, roms.lat_rho.values, location[0], location[2])\n",
    "    yi[1],xi[1] = get_roms_point(roms.lon_rho.values, roms.lat_rho.values, location[0], location[3])\n",
    "    yi[2],xi[2] = get_roms_point(roms.lon_rho.values, roms.lat_rho.values, location[1], location[2])\n",
    "    yi[3],xi[3] = get_roms_point(roms.lon_rho.values, roms.lat_rho.values, location[1], location[3])\n",
    "    bbox = [min(xi),max(xi),min(yi),max(yi)]\n",
    "    return bbox"
   ]
  },
  {
   "cell_type": "code",
   "execution_count": 7,
   "id": "730195ac",
   "metadata": {},
   "outputs": [],
   "source": [
    "def compute_graph(x,y):\n",
    "    G = {}\n",
    "    for i in range(len(x)):\n",
    "        for j in range(len(y)):\n",
    "            G[j, i] = []\n",
    "            if i > 0:\n",
    "                if j > 0:\n",
    "                    G[j, i].append((j-1, i-1))\n",
    "                if j+1 < len(y):\n",
    "                    G[j, i].append((j+1, i-1))\n",
    "                G[j, i].append((j, i-1))\n",
    "            if i+1 < len(x):\n",
    "                if j > 0:\n",
    "                    G[j, i].append((j-1, i+1))\n",
    "                if j+1 < len(y):\n",
    "                    G[j, i].append((j+1, i+1))\n",
    "                G[j, i].append((j, i+1))\n",
    "            if j > 0:\n",
    "                G[j, i].append((j-1, i))\n",
    "            if j+1 < len(y):\n",
    "                G[j, i].append((j+1, i))\n",
    "    return G"
   ]
  },
  {
   "cell_type": "code",
   "execution_count": 8,
   "id": "812cbc60",
   "metadata": {},
   "outputs": [],
   "source": [
    "def calculate_cost(X, Y, mask, U, V, T, t, v1, v2, s0):\n",
    "    l = (T <= t).nonzero()[0].max()\n",
    "    j1, i1 = v1\n",
    "    j2, i2 = v2\n",
    "\n",
    "    u = (U[l,j1,i1] + U[l,j2,i2])/2.\n",
    "    v = (V[l,j1,i1] + V[l,j2,i2])/2.\n",
    "    \n",
    "    ds = distance(Y[v1], X[v1], Y[v2], X[v2])\n",
    "    a = bearing(Y[v1], X[v1], Y[v2], X[v2])\n",
    "    \n",
    "    # ocean_velocity_bearing: 0.5*np.pi - np.atan(v,u) \n",
    "    # ocean_velocity_speed = np.sqrt(u**2+v**2)\n",
    "    # ocean_velocity and swim track relative_angle: bearing - velocity_bearing\n",
    "    # ocean currtent along the swim track component: velocity_speed * np.cos(relative_angle)\n",
    "    # ocean currtent perpendicular to swim track: velocity_speed * np.sin(relative_angle)\n",
    "    # velocity along track helps or not (depending on direction)\n",
    "    # velocity perpendicular must be compensated using swim speed s0 to get to the target point (!)\n",
    "\n",
    "    rel_angle = a - (0.5*np.pi - np.arctan2(v,u))\n",
    "    oa = np.sqrt(u**2 + v**2) * np.cos(rel_angle)\n",
    "    op = np.abs(np.sqrt(u**2 + v**2) * np.sin(rel_angle))\n",
    "    s = s0 + oa - op\n",
    "    \n",
    "    # not beaching, prevent path on the land using mask\n",
    "    if np.logical_or(mask[v1]<0.9, mask[v2]<0.9):\n",
    "        s = -1\n",
    "    if s < 0:\n",
    "        return np.inf\n",
    "    else:\n",
    "        # print(\"%.2f %.2f %.2f %d\" %(s, oa, op, ds/s))\n",
    "        return ds/s"
   ]
  },
  {
   "cell_type": "code",
   "execution_count": 9,
   "id": "21bf2528",
   "metadata": {},
   "outputs": [],
   "source": [
    "def shortest_path(X, Y, mask, U, V, T, G, start, end, s0=0, t0=0):\n",
    "    q = [(t0, start, ())]\n",
    "    visited = {}\n",
    "    while 1:\n",
    "        cost, v1, path = heapq.heappop(q)\n",
    "        if v1 not in visited or visited[v1] > cost:\n",
    "            path = path + (v1,)\n",
    "            visited[v1] = cost\n",
    "            if v1 == end:\n",
    "                return cost, list(path)\n",
    "            for v2 in G[v1]:\n",
    "                cost2 = calculate_cost(X, Y, mask, U, V, T, cost, v1, v2, s0)\n",
    "                if (v2 not in visited or visited[v2] > cost2) and cost+cost2 <= T[-1]:\n",
    "                    heapq.heappush(q, (cost+cost2, v2, path))"
   ]
  },
  {
   "cell_type": "code",
   "execution_count": 11,
   "id": "410e0b60",
   "metadata": {},
   "outputs": [],
   "source": [
    "# load ROMS currents \n",
    "roms = xr.open_dataset('/mnt/qnap/OPERATIONAL/ROMS/CWA/archive/2023/perth_qck_20230204.nc')"
   ]
  },
  {
   "cell_type": "code",
   "execution_count": 12,
   "id": "0d0bb5cb",
   "metadata": {},
   "outputs": [],
   "source": [
    "# ROMS time in secs from the start\n",
    "T = (roms.ocean_time.values - roms.ocean_time[0].values).astype(int)/1e9"
   ]
  },
  {
   "cell_type": "code",
   "execution_count": 13,
   "id": "3eabf143",
   "metadata": {},
   "outputs": [
    {
     "data": {
      "text/plain": [
       "array([ 45, 106, 127, 160])"
      ]
     },
     "execution_count": 13,
     "metadata": {},
     "output_type": "execute_result"
    }
   ],
   "source": [
    "bbox = roms_bbox(roms, [115.47, 115.767, -32.08, -31.93])\n",
    "bbox = np.array(bbox).astype('int')\n",
    "bbox"
   ]
  },
  {
   "cell_type": "code",
   "execution_count": 14,
   "id": "507ce611",
   "metadata": {},
   "outputs": [],
   "source": [
    "# subset ROMS currents for the bbox\n",
    "U =  roms.u_sur_eastward.isel(xi_rho = range(bbox[0],bbox[1]+1), eta_rho = range(bbox[2],bbox[3]+1)).values\n",
    "V = roms.v_sur_northward.isel(xi_rho = range(bbox[0],bbox[1]+1), eta_rho = range(bbox[2],bbox[3]+1)).values\n",
    "# zero missing values on the land \n",
    "U[np.isnan(U)] = 0.0\n",
    "V[np.isnan(V)] = 0.0"
   ]
  },
  {
   "cell_type": "code",
   "execution_count": 15,
   "id": "51d46606",
   "metadata": {},
   "outputs": [],
   "source": [
    "# subset coordinate locations \n",
    "lon =   roms.lon_rho.isel(xi_rho = range(bbox[0],bbox[1]+1), eta_rho = range(bbox[2],bbox[3]+1)).values\n",
    "lat =   roms.lat_rho.isel(xi_rho = range(bbox[0],bbox[1]+1), eta_rho = range(bbox[2],bbox[3]+1)).values\n",
    "mask = roms.mask_rho.isel(xi_rho = range(bbox[0],bbox[1]+1), eta_rho = range(bbox[2],bbox[3]+1)).values"
   ]
  },
  {
   "cell_type": "code",
   "execution_count": 16,
   "id": "a56a4479",
   "metadata": {},
   "outputs": [
    {
     "data": {
      "text/plain": [
       "((19, 57), (21, 15))"
      ]
     },
     "execution_count": 16,
     "metadata": {},
     "output_type": "execute_result"
    }
   ],
   "source": [
    "# define start and end locations\n",
    "start = get_roms_point(lon, lat, 115.749532, -31.994491)\n",
    "end   = get_roms_point(lon, lat, 115.543515, -31.996739)\n",
    "start = (19,57)\n",
    "end = (21,15)\n",
    "start, end"
   ]
  },
  {
   "cell_type": "code",
   "execution_count": 17,
   "id": "d6a782e2",
   "metadata": {},
   "outputs": [],
   "source": [
    "roms.close()"
   ]
  },
  {
   "cell_type": "markdown",
   "id": "03061028",
   "metadata": {},
   "source": [
    "### Regrid on the 5x finer grid, just for fun"
   ]
  },
  {
   "cell_type": "code",
   "execution_count": 18,
   "id": "400c3ae2",
   "metadata": {},
   "outputs": [
    {
     "data": {
      "text/plain": [
       "((310,), (170,))"
      ]
     },
     "execution_count": 18,
     "metadata": {},
     "output_type": "execute_result"
    }
   ],
   "source": [
    "# regrid ROMS data onto finer resolution (i.e. 100m which is 5 times original) \n",
    "xf = np.linspace(lon[0,0], lon[0,-1], np.shape(lon)[1]*5)\n",
    "yf = np.linspace(lat[0,0], lat[-1,0], np.shape(lat)[0]*5)\n",
    "np.shape(xf), np.shape(yf)"
   ]
  },
  {
   "cell_type": "code",
   "execution_count": 19,
   "id": "00a45fa3",
   "metadata": {},
   "outputs": [],
   "source": [
    "from scipy.interpolate import griddata\n",
    "imethod = 'cubic'\n",
    "Xf, Yf = np.meshgrid(xf, yf)\n",
    "Uf = np.empty([len(T), np.shape(Xf)[0], np.shape(Yf)[1]])\n",
    "Vf = np.empty([len(T), np.shape(Xf)[0], np.shape(Yf)[1]])\n",
    "maskf = np.empty([np.shape(Xf)[0], np.shape(Yf)[1]])\n",
    "maskf = griddata(np.c_[lon.flatten(), lat.flatten()], mask.flatten(), (Xf, Yf), method = imethod)\n",
    "for t in range(0, len(T)):\n",
    "    Uf[t,:,:]= griddata(np.c_[lon.flatten(), lat.flatten()], U[t,:,:].flatten(), (Xf, Yf), method = imethod)\n",
    "    Vf[t,:,:]= griddata(np.c_[lon.flatten(), lat.flatten()], V[t,:,:].flatten(), (Xf, Yf), method = imethod)"
   ]
  },
  {
   "cell_type": "code",
   "execution_count": 20,
   "id": "a50cd36b",
   "metadata": {},
   "outputs": [],
   "source": [
    "startf = get_roms_point(Xf, Yf, 115.749532, -31.99)\n",
    "endf = get_roms_point(Xf, Yf, 115.543515, -31.99)"
   ]
  },
  {
   "cell_type": "code",
   "execution_count": 21,
   "id": "98a280f7",
   "metadata": {},
   "outputs": [
    {
     "name": "stdout",
     "output_type": "stream",
     "text": [
      "(170, 310) (103, 291) (103, 76)\n"
     ]
    }
   ],
   "source": [
    "print(np.shape(maskf), startf, endf)"
   ]
  },
  {
   "cell_type": "code",
   "execution_count": 22,
   "id": "24049b63",
   "metadata": {},
   "outputs": [
    {
     "data": {
      "text/plain": [
       "(1.0742083587434146, 1.1226837734984014)"
      ]
     },
     "execution_count": 22,
     "metadata": {},
     "output_type": "execute_result"
    }
   ],
   "source": [
    "maskf[98,288], maskf[98,77]"
   ]
  },
  {
   "cell_type": "code",
   "execution_count": 23,
   "id": "0b260365",
   "metadata": {},
   "outputs": [],
   "source": [
    "startf = (98,288)  # move a bit to make sure they are in the ocean\n",
    "endf = (98,77)"
   ]
  },
  {
   "cell_type": "markdown",
   "id": "f736604a",
   "metadata": {},
   "source": [
    "## Define search algorithm stuff on the fine grid"
   ]
  },
  {
   "cell_type": "code",
   "execution_count": 26,
   "id": "c178a976",
   "metadata": {},
   "outputs": [],
   "source": [
    "Gf = compute_graph(xf,yf)"
   ]
  },
  {
   "cell_type": "code",
   "execution_count": null,
   "id": "68d02204",
   "metadata": {},
   "outputs": [],
   "source": [
    "# test for semi-idealised case\n",
    "Vf_zero = Vf.copy()\n",
    "Uf_zero = Uf.copy()\n",
    "Uf_zero[:,:,150::] = 0\n",
    "Vf_zero[:,:,150::] = 0"
   ]
  },
  {
   "cell_type": "markdown",
   "id": "52b9c32d",
   "metadata": {},
   "source": [
    "## Define search algorithm stuff on the native grid"
   ]
  },
  {
   "cell_type": "code",
   "execution_count": 24,
   "id": "5c9217a8",
   "metadata": {},
   "outputs": [],
   "source": [
    "x = lon[0,:]\n",
    "y = lat[:,0]\n",
    "X, Y = np.meshgrid(x, y)"
   ]
  },
  {
   "cell_type": "code",
   "execution_count": 25,
   "id": "8c8a33a5",
   "metadata": {},
   "outputs": [],
   "source": [
    "G = compute_graph(x,y)"
   ]
  },
  {
   "cell_type": "code",
   "execution_count": 27,
   "id": "5f0ff4ab",
   "metadata": {},
   "outputs": [],
   "source": [
    "# test for semi-idealised case\n",
    "V_zero = V.copy()\n",
    "U_zero = U.copy()\n",
    "U_zero[:,:,30::] = 0\n",
    "V_zero[:,:,30::] = 0"
   ]
  },
  {
   "cell_type": "markdown",
   "id": "4f4d36a2",
   "metadata": {},
   "source": [
    "## Run the model on the fine grid"
   ]
  },
  {
   "cell_type": "code",
   "execution_count": null,
   "id": "2929b098",
   "metadata": {},
   "outputs": [],
   "source": [
    "%%time\n",
    "end_timef, optimal_pathf = shortest_path(Xf, Yf, maskf, Uf_zero, Vf_zero, T, Gf, startf, endf, 1, T[0])"
   ]
  },
  {
   "cell_type": "code",
   "execution_count": null,
   "id": "72ba5cc1",
   "metadata": {
    "scrolled": true
   },
   "outputs": [],
   "source": [
    "plt.figure(figsize = (10, 5))\n",
    "rec = 4;\n",
    "q = plt.quiver(Xf[0:-1:10,0:-1:10],Yf[0:-1:10,0:-1:10],Uf_zero[rec, 0:-1:10,0:-1:10],Vf_zero[rec, 0:-1:10,0:-1:10])\n",
    "plt.plot(Xf[startf],Yf[startf],'r*')\n",
    "plt.plot(Xf[endf],Yf[endf],'ro')\n",
    "\n",
    "for i in range(0,np.shape(optimal_pathf)[0]):\n",
    "    plt.plot(Xf[optimal_pathf[i]], Yf[optimal_pathf[i]], 'm.')"
   ]
  },
  {
   "cell_type": "markdown",
   "id": "658f7f6f",
   "metadata": {},
   "source": [
    "## Run the model on the native grid"
   ]
  },
  {
   "cell_type": "code",
   "execution_count": null,
   "id": "ccce1462",
   "metadata": {},
   "outputs": [],
   "source": [
    "end_time, optimal_path = shortest_path(X, Y, mask, U_zero, V_zero, T, G, start, end, 1, T[0])\n",
    "plt.figure(figsize = (10, 5))\n",
    "plt.title(\"\")\n",
    "rec = 4;\n",
    "q = plt.quiver(x, y, U_zero[rec,:,:], V_zero[rec,:,:], color = 'k')\n",
    "plt.plot(X[start],Y[start],'r*')\n",
    "plt.plot(X[end],Y[end],'ro')\n",
    "xx = []\n",
    "yy = []\n",
    "for i in range(0,np.shape(optimal_path)[0]):\n",
    "    xx.append(X[optimal_path[i]])\n",
    "    yy.append(Y[optimal_path[i]])\n",
    "    \n",
    "plt.plot(xx,yy,'r',linewidth=2)  "
   ]
  },
  {
   "cell_type": "code",
   "execution_count": 175,
   "id": "e8cf3699",
   "metadata": {},
   "outputs": [],
   "source": []
  },
  {
   "cell_type": "code",
   "execution_count": null,
   "id": "3d3b143d",
   "metadata": {},
   "outputs": [],
   "source": []
  },
  {
   "cell_type": "code",
   "execution_count": null,
   "id": "ee026112",
   "metadata": {},
   "outputs": [],
   "source": []
  }
 ],
 "metadata": {
  "kernelspec": {
   "display_name": "Python 3",
   "language": "python",
   "name": "python3"
  },
  "language_info": {
   "codemirror_mode": {
    "name": "ipython",
    "version": 3
   },
   "file_extension": ".py",
   "mimetype": "text/x-python",
   "name": "python",
   "nbconvert_exporter": "python",
   "pygments_lexer": "ipython3",
   "version": "3.10.4"
  }
 },
 "nbformat": 4,
 "nbformat_minor": 5
}
